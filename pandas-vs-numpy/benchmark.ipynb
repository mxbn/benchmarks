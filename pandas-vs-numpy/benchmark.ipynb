{
 "cells": [
  {
   "cell_type": "code",
   "execution_count": 1,
   "id": "fb87be77-818a-4d0c-8c7c-0cdba3c19121",
   "metadata": {},
   "outputs": [],
   "source": [
    "import time\n",
    "import pandas as pd\n",
    "import numpy as np\n",
    "import matplotlib.pyplot as plt"
   ]
  },
  {
   "cell_type": "code",
   "execution_count": 2,
   "id": "c70e1221-e65b-477f-8f58-19b52da74e2f",
   "metadata": {},
   "outputs": [],
   "source": [
    "n_cols = 1000\n",
    "n_rows = 1000\n",
    "\n",
    "columns = np.arange(n_cols)\n",
    "data = np.random.random((n_rows, n_cols))\n",
    "df = pd.DataFrame(data, columns=columns)\n",
    "data_dict = {i: {j: col for j, col in enumerate(row)} for i, row in enumerate(data)}"
   ]
  },
  {
   "cell_type": "code",
   "execution_count": 3,
   "id": "9ba6b74c-ae5f-47b5-862f-1ce6053ea9eb",
   "metadata": {},
   "outputs": [],
   "source": [
    "def sum_1(df):\n",
    "    s = 0\n",
    "    for i in range(df.shape[0]):\n",
    "        for j in range(df.shape[1]):\n",
    "            s += df.loc[i, j]\n",
    "    return s\n",
    "\n",
    "def sum_2(df):\n",
    "    s = 0\n",
    "    for row in df.iterrows():\n",
    "        for col in df.columns:\n",
    "            s += row[1][col]\n",
    "    return s\n",
    "\n",
    "def sum_3(data_dict):\n",
    "    s = 0\n",
    "    for col in range(len(data_dict)):\n",
    "        for row in range(len(data_dict[col])):\n",
    "            s += data_dict[row][col]\n",
    "    return s\n",
    "\n",
    "def sum_4(data_dict):\n",
    "    s = 0\n",
    "    for row_key in data_dict.keys():\n",
    "        for col_key in data_dict[row_key].keys():\n",
    "            s += data_dict[row_key][col_key]\n",
    "    return s\n",
    "\n",
    "def sum_5(data):\n",
    "    s = 0\n",
    "    for i in range(data.shape[0]):\n",
    "        for j in range(data.shape[1]):\n",
    "            s += data[i,j]\n",
    "    return s\n",
    "\n",
    "def sum_6(data):\n",
    "    s = 0\n",
    "    for row in data:\n",
    "        for col in row:\n",
    "            s += col\n",
    "    return s"
   ]
  },
  {
   "cell_type": "code",
   "execution_count": 4,
   "id": "941fbfca-b2f9-4759-afed-f97cdce90bf5",
   "metadata": {},
   "outputs": [
    {
     "name": "stdout",
     "output_type": "stream",
     "text": [
      "All equal:      False\n",
      "df.loc:         8.416 sec\n",
      "df.iterrows:    3.596 sec\n",
      "dict direct:    0.241 sec\n",
      "dict iter keys: 0.154 sec\n",
      "numpy direct:   0.218 sec\n",
      "numpy for in:   0.114 sec\n"
     ]
    }
   ],
   "source": [
    "t11 = []\n",
    "t12 = []\n",
    "t13 = []\n",
    "t14 = []\n",
    "t15 = []\n",
    "t16 = []\n",
    "\n",
    "all_equal = []\n",
    "\n",
    "n_tests = 100\n",
    "\n",
    "for _ in range(n_tests):\n",
    "    \n",
    "    t0 = time.time()\n",
    "    s1 = sum_1(df)\n",
    "    t11.append(time.time() - t0)\n",
    "    \n",
    "    t0 = time.time()\n",
    "    s2 = sum_2(df)\n",
    "    t12.append(time.time() - t0)\n",
    "    \n",
    "    t0 = time.time()\n",
    "    s3 = sum_3(data_dict)\n",
    "    t13.append(time.time() - t0)\n",
    "    \n",
    "    t0 = time.time()\n",
    "    s4 = sum_4(data_dict)\n",
    "    t14.append(time.time() - t0)\n",
    "    \n",
    "    t0 = time.time()\n",
    "    s5 = sum_5(data)\n",
    "    t15.append(time.time() - t0)\n",
    "    \n",
    "    t0 = time.time()\n",
    "    s6 = sum_6(data)\n",
    "    t16.append(time.time() - t0)\n",
    "    \n",
    "    all_equal.append(s1==s2==s3==s4==s5==s6)\n",
    "\n",
    "n1 = int(0.2*n_tests)\n",
    "n2 = int(0.8*n_tests)\n",
    "\n",
    "t11 = np.mean(sorted(t11)[n1:n2])\n",
    "t12 = np.mean(sorted(t12)[n1:n2])\n",
    "t13 = np.mean(sorted(t13)[n1:n2])\n",
    "t14 = np.mean(sorted(t14)[n1:n2])\n",
    "t15 = np.mean(sorted(t15)[n1:n2])\n",
    "t16 = np.mean(sorted(t16)[n1:n2])\n",
    "\n",
    "print('All equal:      %s' % all(all_equal))\n",
    "print('df.loc:         %.3f sec' % t11)\n",
    "print('df.iterrows:    %.3f sec' % t12)\n",
    "print('dict direct:    %.3f sec' % t13)\n",
    "print('dict iter keys: %.3f sec' % t14)\n",
    "print('numpy direct:   %.3f sec' % t15)\n",
    "print('numpy for in:   %.3f sec' % t16)"
   ]
  },
  {
   "cell_type": "code",
   "execution_count": 5,
   "id": "0760f4c6-59fc-4f1c-8cec-3e0303b059a8",
   "metadata": {},
   "outputs": [
    {
     "data": {
      "image/png": "[encoded data removed]",
      "text/plain": [
       "<Figure size 864x216 with 1 Axes>"
      ]
     },
     "metadata": {
      "needs_background": "light"
     },
     "output_type": "display_data"
    }
   ],
   "source": [
    "plt.figure(figsize=(12,3))\n",
    "plt.title('elementwise access')\n",
    "plt.barh([6,5,4,3,2,1], [t11,t12,t13,t14,t15,t16])\n",
    "plt.yticks([1,2,3,4,5,6], ['numpy for in', 'numpy direct', 'dict iter keys', 'dict direct', 'df.iterrows', 'df.loc'])\n",
    "plt.xlabel('sec')\n",
    "plt.show()"
   ]
  },
  {
   "cell_type": "code",
   "execution_count": 6,
   "id": "fe07f16e-9ceb-4cae-bf05-8f5e82065059",
   "metadata": {},
   "outputs": [
    {
     "name": "stdout",
     "output_type": "stream",
     "text": [
      "All equal: True\n",
      "df.sum: 0.00456 sec\n",
      "np.sum: 0.00048 sec\n"
     ]
    }
   ],
   "source": [
    "t21 = []\n",
    "t22 = []\n",
    "\n",
    "all_equal = []\n",
    "\n",
    "n_tests = 100\n",
    "\n",
    "for _ in range(n_tests):\n",
    "    \n",
    "    t0 = time.time()\n",
    "    s1 = df.sum(axis=1)\n",
    "    t21.append(time.time() - t0)\n",
    "    \n",
    "    t0 = time.time()\n",
    "    s2 = data.sum(axis=1)\n",
    "    t22.append(time.time() - t0)\n",
    "    \n",
    "    all_equal.append(np.array_equal(s1, s2))\n",
    "\n",
    "n1 = int(0.2*n_tests)\n",
    "n2 = int(0.8*n_tests)\n",
    "\n",
    "t21 = np.mean(sorted(t21)[n1:n2])\n",
    "t22 = np.mean(sorted(t22)[n1:n2])\n",
    "\n",
    "print('All equal: %s' % all(all_equal))\n",
    "print('df.sum: %.5f sec' % t21)\n",
    "print('np.sum: %.5f sec' % t22)"
   ]
  },
  {
   "cell_type": "code",
   "execution_count": 7,
   "id": "6e86d2d7-24da-4d47-86ed-2b0d04f8d75b",
   "metadata": {},
   "outputs": [
    {
     "data": {
      "image/png": "[encoded data removed]",
      "text/plain": [
       "<Figure size 864x72 with 1 Axes>"
      ]
     },
     "metadata": {
      "needs_background": "light"
     },
     "output_type": "display_data"
    }
   ],
   "source": [
    "plt.figure(figsize=(12,1))\n",
    "plt.title('columnwise sum')\n",
    "plt.barh([2, 1], [t21,t22])\n",
    "plt.yticks([1, 2], ['numpy', 'pandas'])\n",
    "plt.xlabel('sec')\n",
    "plt.show()"
   ]
  },
  {
   "cell_type": "code",
   "execution_count": 8,
   "id": "3cb13304-8aef-4178-b391-a3597befff4f",
   "metadata": {},
   "outputs": [
    {
     "name": "stdout",
     "output_type": "stream",
     "text": [
      "pandas: 0.00454 sec, max abs err = 1.199e-08\n",
      "numpy:  0.00044 sec, max abs err = 1.193e-08\n"
     ]
    }
   ],
   "source": [
    "t31 = []\n",
    "t32 = []\n",
    "\n",
    "error1 = []\n",
    "error2 = []\n",
    "\n",
    "n_tests = 100\n",
    "\n",
    "s0 = sum_3(data)\n",
    "\n",
    "for _ in range(n_tests):\n",
    "    \n",
    "    t0 = time.time()\n",
    "    s1 = df.sum().sum()\n",
    "    t31.append(time.time() - t0)\n",
    "    error1.append(abs(s0 - s1))\n",
    "    \n",
    "    t0 = time.time()\n",
    "    s2 = data.sum()\n",
    "    t32.append(time.time() - t0)\n",
    "    error2.append(abs(s0 - s2))\n",
    "    \n",
    "n1 = int(0.2*n_tests)\n",
    "n2 = int(0.8*n_tests)\n",
    "\n",
    "t31 = np.mean(sorted(t31)[n1:n2])\n",
    "t32 = np.mean(sorted(t32)[n1:n2])\n",
    "\n",
    "print('pandas: %.5f sec, max abs err = %.3e' % (t31, max(error1)))\n",
    "print('numpy:  %.5f sec, max abs err = %.3e' % (t32, max(error2)))"
   ]
  },
  {
   "cell_type": "code",
   "execution_count": 9,
   "id": "c9cc826a-7de0-4917-9b53-146890884a62",
   "metadata": {},
   "outputs": [
    {
     "data": {
      "image/png": "[encoded data removed]",
      "text/plain": [
       "<Figure size 864x72 with 1 Axes>"
      ]
     },
     "metadata": {
      "needs_background": "light"
     },
     "output_type": "display_data"
    }
   ],
   "source": [
    "plt.figure(figsize=(12,1))\n",
    "plt.title('sum all')\n",
    "plt.barh([2, 1], [t21,t22])\n",
    "plt.yticks([1, 2], ['numpy', 'pandas'])\n",
    "plt.xlabel('sec')\n",
    "plt.show()"
   ]
  },
  {
   "cell_type": "code",
   "execution_count": null,
   "id": "2a7ee39b-1883-40b1-8af8-fff47930624d",
   "metadata": {},
   "outputs": [],
   "source": []
  }
 ],
 "metadata": {
  "kernelspec": {
   "display_name": "Python 3",
   "language": "python",
   "name": "python3"
  },
  "language_info": {
   "codemirror_mode": {
    "name": "ipython",
    "version": 3
   },
   "file_extension": ".py",
   "mimetype": "text/x-python",
   "name": "python",
   "nbconvert_exporter": "python",
   "pygments_lexer": "ipython3",
   "version": "3.9.5"
  }
 },
 "nbformat": 4,
 "nbformat_minor": 5
}
