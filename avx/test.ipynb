{
 "cells": [
  {
   "cell_type": "code",
   "execution_count": 1,
   "metadata": {},
   "outputs": [],
   "source": [
    "import sagemaker, json, sys, time\n",
    "from sagemaker.tensorflow import TensorFlow"
   ]
  },
  {
   "cell_type": "code",
   "execution_count": null,
   "metadata": {},
   "outputs": [],
   "source": [
    "m = TensorFlow(source_dir='./src',\n",
    "               entry_point='model1.py',\n",
    "               py_version='py3',\n",
    "               role=sagemaker.get_execution_role(),\n",
    "               sagemaker_session=sagemaker.Session(),\n",
    "               train_instance_count=1,\n",
    "               train_instance_type='ml.c4.4xlarge',\n",
    "               base_job_name='test-avx')\n",
    "\n",
    "m.fit()"
   ]
  },
  {
   "cell_type": "code",
   "execution_count": null,
   "metadata": {},
   "outputs": [],
   "source": [
    "m = TensorFlow(source_dir='./src',\n",
    "               entry_point='model1.py',\n",
    "               py_version='py3',\n",
    "               role=sagemaker.get_execution_role(),\n",
    "               sagemaker_session=sagemaker.Session(),\n",
    "               train_instance_count=1,\n",
    "               train_instance_type='ml.c5.4xlarge',\n",
    "               base_job_name='test-avx')\n",
    "\n",
    "m.fit()"
   ]
  },
  {
   "cell_type": "code",
   "execution_count": null,
   "metadata": {},
   "outputs": [],
   "source": [
    "m = TensorFlow(source_dir='./src',\n",
    "               entry_point='model1.py',\n",
    "               py_version='py3',\n",
    "               framework_version='2.0.0',\n",
    "               role=sagemaker.get_execution_role(),\n",
    "               sagemaker_session=sagemaker.Session(),\n",
    "               train_instance_count=1,\n",
    "               train_instance_type='ml.c5.4xlarge',\n",
    "               base_job_name='test-avx')\n",
    "\n",
    "m.fit()"
   ]
  },
  {
   "cell_type": "code",
   "execution_count": null,
   "metadata": {},
   "outputs": [],
   "source": [
    "m = TensorFlow(source_dir='./src',\n",
    "               entry_point='model2.py',\n",
    "               py_version='py3',\n",
    "               framework_version='2.0.0',\n",
    "               role=sagemaker.get_execution_role(),\n",
    "               sagemaker_session=sagemaker.Session(),\n",
    "               train_instance_count=1,\n",
    "               train_instance_type='ml.c5.4xlarge',\n",
    "               base_job_name='test-avx')\n",
    "\n",
    "m.fit()"
   ]
  },
  {
   "cell_type": "code",
   "execution_count": null,
   "metadata": {},
   "outputs": [],
   "source": [
    "m = TensorFlow(source_dir='./src',\n",
    "               entry_point='model1.py',\n",
    "               py_version='py3',\n",
    "               framework_version='2.0.0',\n",
    "               role=sagemaker.get_execution_role(),\n",
    "               sagemaker_session=sagemaker.Session(),\n",
    "               train_instance_count=1,\n",
    "               train_instance_type='ml.p3.2xlarge',\n",
    "               base_job_name='test-avx')\n",
    "\n",
    "m.fit()"
   ]
  },
  {
   "cell_type": "code",
   "execution_count": null,
   "metadata": {},
   "outputs": [],
   "source": [
    "m = TensorFlow(source_dir='./src',\n",
    "               entry_point='model2.py',\n",
    "               py_version='py3',\n",
    "               framework_version='2.0.0',\n",
    "               role=sagemaker.get_execution_role(),\n",
    "               sagemaker_session=sagemaker.Session(),\n",
    "               train_instance_count=1,\n",
    "               train_instance_type='ml.p3.2xlarge',\n",
    "               base_job_name='test-avx')\n",
    "\n",
    "m.fit()"
   ]
  }
 ],
 "metadata": {
  "kernelspec": {
   "display_name": "conda_python3",
   "language": "python",
   "name": "conda_python3"
  },
  "language_info": {
   "codemirror_mode": {
    "name": "ipython",
    "version": 3
   },
   "file_extension": ".py",
   "mimetype": "text/x-python",
   "name": "python",
   "nbconvert_exporter": "python",
   "pygments_lexer": "ipython3",
   "version": "3.6.5"
  }
 },
 "nbformat": 4,
 "nbformat_minor": 4
}
